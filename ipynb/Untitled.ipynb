{
 "cells": [
  {
   "cell_type": "markdown",
   "metadata": {},
   "source": [
    "# Bayesian MRF for segmentation"
   ]
  },
  {
   "cell_type": "code",
   "execution_count": 1,
   "metadata": {},
   "outputs": [],
   "source": [
    "import numpy as np\n",
    "import cv2"
   ]
  },
  {
   "cell_type": "markdown",
   "metadata": {},
   "source": [
    "Convert XYZ image to L*u*v color space"
   ]
  },
  {
   "cell_type": "code",
   "execution_count": 2,
   "metadata": {},
   "outputs": [],
   "source": [
    "def RGB2Luv(xyz_data):\n",
    "\theight = xyz_data.shape[0]\n",
    "\twidth = xyz_data.shape[1]\n",
    "\tluv_data = np.zeros([height,width,3])\n",
    "\tu0 = 4 * 242.36628 / (242.36628 + 15 * 254.999745 +  3 * 277.63227)\n",
    "\tv0 = 9 * 254.999754 / (242.36628 + 15 * 254.999745 +  3 * 277.63227)\n",
    "\tfor i in range(height):\n",
    "\t\tfor j in range(width):\n",
    "\t\t\tif ((xyz_data[i][j][1]/254.999745) > 0.008856):\n",
    "\t\t\t\tluv_data[i][j][0] = 116*np.power(xyz_data[i][j][1]/264.999745, 1/3)-16\n",
    "\t\t\telse:\n",
    "\t\t\t\tluv_data[i][j][0] = 903.3*(xyz_data[i][j][1]/254.999745)\n",
    "\t\t\t#u component\n",
    "\t\t\tif ((xyz_data[i][j][0] + 15 * xyz_data[i][j][1] + 3 * xyz_data[i][j][2])==0):\n",
    "\t\t\t\tluv_data[i][j][1] = 13 * luv_data[i][j][0] * (-u0)\n",
    "\t\t\telse:\n",
    "\t\t\t\tluv_data[i][j][1] = 13 * luv_data[i][j][0] * ((4 * xyz_data[i][j][0]/\n",
    "\t\t\t\t\t\t\t\t\t\t\t\t\t\t\t   (xyz_data[i][j][0] + 15 * xyz_data[i][j][1] + 3 * xyz_data[i][j][2])) - u0)\n",
    "\n",
    "\t\t\t#v component\n",
    "\t\t\tif ((xyz_data[i][j][0] + 15 * xyz_data[i][j][1] + 3 * xyz_data[i][j][2])==0):\n",
    "\t\t\t\tluv_data[i][j][2] = 13 * luv_data[i][j][0] * (-v0)\n",
    "\t\t\telse:\n",
    "\t\t\t\tluv_data[i][j][2] = 13 * luv_data[i][j][0] * ((9 * xyz_data[i][j][1] /\n",
    "\t\t\t\t\t\t\t\t\t\t\t\t\t\t\t   (xyz_data[i][j][0] + 15 * xyz_data[i][j][1] + 3 * xyz_data[i][j][2])) - v0)\n",
    "\n",
    "\treturn luv_data"
   ]
  },
  {
   "cell_type": "markdown",
   "metadata": {},
   "source": [
    "Parameters"
   ]
  },
  {
   "cell_type": "code",
   "execution_count": 3,
   "metadata": {},
   "outputs": [],
   "source": [
    "no_regions = 4\n",
    "beta=2.5\n",
    "t = 0.05 #threshold\n",
    "T0 = 4.00\n",
    "c = 0.98"
   ]
  },
  {
   "cell_type": "markdown",
   "metadata": {},
   "source": [
    "Prior Guanssian distribution parameters"
   ]
  },
  {
   "cell_type": "code",
   "execution_count": null,
   "metadata": {},
   "outputs": [],
   "source": [
    "    def CalculateMeanAndCovariance(frame):\n",
    "        h=frame.shape[0]\n",
    "        w=frame.shape[1]\n",
    "        for k in range(3):\n",
    "            frame_LUV = np.reshape(frame[:,:,k], -1)\n",
    "            self.mean[k][region] = np.mean(frame_LUV)\n",
    "            self.variance[k][region] = np.var(frame_LUV,ddof=1)\n",
    "        #compute covariances\n",
    "        frame_L = np.reshape(frame[:,:,0], -1)\n",
    "        frame_u = np.reshape(frame[:,:,1], -1)\n",
    "        frame_v = np.reshape(frame[:,:,2], -1)\n",
    "        mean_L = self.mean[0][region]\n",
    "        mean_u = self.mean[1][region]\n",
    "        mean_v = self.mean[2][region]\n",
    "        self.covariance[0][region] = np.sum((frame_L - mean_L)*(frame_u - mean_u))/(w*h)\n",
    "        self.covariance[1][region] = np.sum((frame_L - mean_L)*(frame_v - mean_v))/(w*h)\n",
    "        self.covariance[2][region] = np.sum((frame_u - mean_u)*(frame_v - mean_v))/(w*h)\n",
    "\n",
    "        #compute elements of inverse covariance matrix\n",
    "        self.invcov[0][region] = self.variance[2][region]*self.variance[1][region]-self.covariance[2][region]*self.covariance[2][region]\n",
    "        self.invcov[1][region] = self.variance[1][region]*self.variance[2][region]-self.covariance[2][region]*self.covariance[0][region]\n",
    "        self.invcov[2][region] = self.variance[0][region]*self.variance[2][region]-self.covariance[1][region]*self.covariance[1][region]\n",
    "        self.invcov[3][region] = self.variance[2][region]*self.variance[0][region]-self.covariance[1][region]*self.covariance[1][region]\n",
    "        self.invcov[4][region] = self.variance[0][region]*self.variance[1][region]-self.covariance[0][region]*self.covariance[2][region]\n",
    "        self.invcov[5][region] = self.variance[1][region]*self.variance[0][region]-self.covariance[0][region]*self.covariance[0][region]\n",
    "\n",
    "        #compute denominator\n",
    "        self.denom[region] =  self.variance[0][region] * self.variance[1][region] * self.variance[2][region] - \\\n",
    "                              self.variance[2][region] * self.covariance[0][region] * self.covariance[0][region] - \\\n",
    "                              self.variance[1][region] * self.covariance[1][region] * self.covariance[1][region] - \\\n",
    "                              self.variance[0][region] * self.covariance[2][region] * self.covariance[2][region] + \\\n",
    "                              self.covariance[0][region] * self.covariance[1][region] * self.covariance[2][region] * 2\n"
   ]
  },
  {
   "cell_type": "code",
   "execution_count": null,
   "metadata": {},
   "outputs": [],
   "source": [
    "refPoint = np.array([[(0,0),()],[],[],[]])"
   ]
  },
  {
   "cell_type": "code",
   "execution_count": null,
   "metadata": {},
   "outputs": [],
   "source": [
    "\n",
    "def SetNoRegions(self):\n",
    "    mean=mean-1\n",
    "    variance=variance-1\n",
    "    covariance=covariance-1\n",
    "    invcov=invcov-1"
   ]
  }
 ],
 "metadata": {
  "kernelspec": {
   "display_name": "pyro",
   "language": "python",
   "name": "pyro"
  },
  "language_info": {
   "codemirror_mode": {
    "name": "ipython",
    "version": 3
   },
   "file_extension": ".py",
   "mimetype": "text/x-python",
   "name": "python",
   "nbconvert_exporter": "python",
   "pygments_lexer": "ipython3",
   "version": "3.8.5"
  }
 },
 "nbformat": 4,
 "nbformat_minor": 4
}
